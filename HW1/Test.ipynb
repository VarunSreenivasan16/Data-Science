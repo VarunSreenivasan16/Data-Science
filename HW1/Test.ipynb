{
 "cells": [
  {
   "cell_type": "code",
   "execution_count": 11,
   "metadata": {},
   "outputs": [],
   "source": [
    "def preprocess_word(word):\n",
    "    \n",
    "    word = word.strip('\\'\"?!,.():;')\n",
    "    word_length = len(word)\n",
    "    tempWord = \"\"\n",
    "    prevChar = \"\"\n",
    "    rep = 0\n",
    "    \n",
    "    for i in range(0, word_length):\n",
    "        if i == 0:\n",
    "            tempWord += word[i]\n",
    "            rep = 1\n",
    "            prevChar = word[i]\n",
    "        else:\n",
    "            if (prevChar == word[i]):\n",
    "                rep+=1\n",
    "                if (rep <=2):\n",
    "                    tempWord += word[i]\n",
    "            else:\n",
    "                rep = 1\n",
    "                prevChar = word[i]\n",
    "                tempWord += word[i]\n",
    "\n",
    "    word = tempWord\n",
    "    \n",
    "    tempWord = \"\"\n",
    "    \n",
    "    for letter in word:\n",
    "        if letter != '-' and letter != \"'\":\n",
    "            tempWord += letter\n",
    "    \n",
    "    word = tempWord\n",
    "    \n",
    "    return word"
   ]
  },
  {
   "cell_type": "code",
   "execution_count": 2,
   "metadata": {},
   "outputs": [
    {
     "name": "stdout",
     "output_type": "stream",
     "text": [
      "no.1\n"
     ]
    }
   ],
   "source": [
    "word = \"no.1\"\n",
    "word = word.strip('\\'\"?!,.():;')\n",
    "print(word)"
   ]
  },
  {
   "cell_type": "code",
   "execution_count": 14,
   "metadata": {},
   "outputs": [
    {
     "data": {
      "text/plain": [
       "'fffnn'"
      ]
     },
     "execution_count": 14,
     "metadata": {},
     "output_type": "execute_result"
    }
   ],
   "source": [
    "preprocess_word(\"ff-f'nnnn\")"
   ]
  },
  {
   "cell_type": "code",
   "execution_count": 7,
   "metadata": {},
   "outputs": [
    {
     "name": "stdout",
     "output_type": "stream",
     "text": [
      "Bye\n",
      "Hello\n"
     ]
    }
   ],
   "source": [
    "str1 = \"Hello\"\n",
    "str2 = str1\n",
    "str1 = \"Bye\"\n",
    "\n",
    "print(str1)\n",
    "print(str2)"
   ]
  },
  {
   "cell_type": "code",
   "execution_count": 22,
   "metadata": {},
   "outputs": [],
   "source": [
    "def is_valid_word(word):\n",
    "    # Check if word begins with an alphabet\n",
    "    return (re.search(r'^[a-zA-Z][a-z0-9A-Z\\._]*$', word) is not None)\n",
    "\n",
    "\n",
    "def handle_emojis(tweet):\n",
    "    # Smile -- :), : ), :-), (:, ( :, (-:, :')\n",
    "    tweet = re.sub(r'(:\\s?\\)|:-\\)|\\(\\s?:|\\(-:|:\\'\\))', ' EMO_POS ', tweet)\n",
    "    # Laugh -- :D, : D, :-D, xD, x-D, XD, X-D\n",
    "    tweet = re.sub(r'(:\\s?D|:-D|x-?D|X-?D)', ' EMO_POS ', tweet)\n",
    "    # Love -- <3, :*\n",
    "    tweet = re.sub(r'(<3|:\\*)', ' EMO_POS ', tweet)\n",
    "    # Wink -- ;-), ;), ;-D, ;D, (;,  (-;\n",
    "    tweet = re.sub(r'(;-?\\)|;-?D|\\(-?;)', ' EMO_POS ', tweet)\n",
    "    # Sad -- :-(, : (, :(, ):, )-:\n",
    "    tweet = re.sub(r'(:\\s?\\(|:-\\(|\\)\\s?:|\\)-:)', ' EMO_NEG ', tweet)\n",
    "    # Cry -- :,(, :'(, :\"(\n",
    "    tweet = re.sub(r'(:,\\(|:\\'\\(|:\"\\()', ' EMO_NEG ', tweet)\n",
    "    return tweet"
   ]
  },
  {
   "cell_type": "code",
   "execution_count": 29,
   "metadata": {},
   "outputs": [],
   "source": [
    "import re\n",
    "import sys\n",
    "import json\n",
    "def preprocess_tweet(tweet):\n",
    "    processed_tweet = []\n",
    "    # Convert to lower case\n",
    "    tweet = tweet.lower()\n",
    "    # Replaces URLs with the empty string\n",
    "    tweet = re.sub(r'((www\\.[\\S]+)|(https?://[\\S]+))', ' ', tweet)\n",
    "    # Replace @handle with the empty string\n",
    "    tweet = re.sub(r'@[\\S]+', '', tweet)\n",
    "\n",
    "    # Replaces #hashtag with hashtag. Example #DataScience should be DataScience\n",
    "    # TODO: The next line should implement the functionality in the above comment.\n",
    "    tweet = tweet.replace(\"#\", \" \")    \n",
    "    \n",
    "    # Remove RT (retweet)\n",
    "    # TODO: The next line should implement the functionality in the above comment.\n",
    "    tweet = tweet.replace(\"RT\", \"\")\n",
    "    \n",
    "    # Replace 2+ dots with space\n",
    "    # TODO: The next line should implement the functionality in the above commen\n",
    "    tweet = re.sub('\\.\\.+',' ', tweet)\n",
    "    \n",
    "    # Strip space, \" and ' from tweet\n",
    "    tweet = tweet.strip(' \"\\'')\n",
    "    # Replace emojis with either EMO_POS or EMO_NEG\n",
    "    tweet = handle_emojis(tweet)\n",
    "    # Replace multiple spaces with a single space\n",
    "    tweet = re.sub(r'\\s+', ' ', tweet)\n",
    "    words = tweet.split()\n",
    "\n",
    "    for word in words:\n",
    "        word = preprocess_word(word)\n",
    "        if is_valid_word(word):\n",
    "            processed_tweet.append(word)\n",
    "\n",
    "    return ' '.join(processed_tweet)"
   ]
  },
  {
   "cell_type": "code",
   "execution_count": 30,
   "metadata": {},
   "outputs": [
    {
     "data": {
      "text/plain": [
       "'rt pisces wont always call you out on your bullshit but trust me they do see it'"
      ]
     },
     "execution_count": 30,
     "metadata": {},
     "output_type": "execute_result"
    }
   ],
   "source": [
    "preprocess_tweet(\"RT @BestofPisces: #Pisces...... won't always call you out on your bullshit, but trust me, they DO see it.\")"
   ]
  },
  {
   "cell_type": "code",
   "execution_count": 13,
   "metadata": {},
   "outputs": [],
   "source": [
    "word = \"'''''-------thbh'''&&----ffffffffffffff&&&&&&&&&&&&&&&&&&&\""
   ]
  },
  {
   "cell_type": "code",
   "execution_count": 14,
   "metadata": {},
   "outputs": [
    {
     "name": "stdout",
     "output_type": "stream",
     "text": [
      "thbhffffffffffffff\n"
     ]
    }
   ],
   "source": [
    "word = word.replace(\"'\", \"\")\n",
    "word = word.replace(\"-\",\"\")\n",
    "word = word.replace(\"&\", \"\")\n",
    "print(word)"
   ]
  },
  {
   "cell_type": "code",
   "execution_count": 6,
   "metadata": {},
   "outputs": [
    {
     "name": "stdout",
     "output_type": "stream",
     "text": [
      "sg!!gsg..!!kk;;\n"
     ]
    }
   ],
   "source": [
    "import re\n",
    "\n",
    "\n",
    "word_length = len(word)\n",
    "tempWord = \"\"\n",
    "prevChar = \"\"\n",
    "rep = 0\n",
    "    \n",
    "for i in range(0, word_length):\n",
    "    if i == 0:\n",
    "        tempWord += word[i]\n",
    "        rep = 1\n",
    "        prevChar = word[i]\n",
    "    else:\n",
    "        if (prevChar == word[i]):\n",
    "            rep+=1\n",
    "            if (rep <=2):\n",
    "                tempWord += word[i]\n",
    "        else:\n",
    "            rep = 1\n",
    "            prevChar = word[i]\n",
    "            tempWord += word[i]\n",
    "\n",
    "word = tempWord\n",
    "print(word)\n",
    "            "
   ]
  },
  {
   "cell_type": "code",
   "execution_count": 15,
   "metadata": {},
   "outputs": [],
   "source": [
    "word = \"fffffffffffffffffffffffffffffeeeeeeeeeeeeeeeeeeeeeeeeffffffffftttttt\""
   ]
  },
  {
   "cell_type": "code",
   "execution_count": 16,
   "metadata": {},
   "outputs": [
    {
     "name": "stdout",
     "output_type": "stream",
     "text": [
      "ffeefftt\n"
     ]
    }
   ],
   "source": [
    "word_length = len(word)\n",
    "tempWord = \"\"\n",
    "prevChar = \"\"\n",
    "rep = 0\n",
    "    \n",
    "for i in range(0, word_length):\n",
    "    if i == 0:\n",
    "        tempWord += word[i]\n",
    "        rep = 1\n",
    "        prevChar = word[i]\n",
    "    else:\n",
    "        if (prevChar == word[i]):\n",
    "            rep+=1\n",
    "            if (rep <=2):\n",
    "                tempWord += word[i]\n",
    "        else:\n",
    "            rep = 1\n",
    "            prevChar = word[i]\n",
    "            tempWord += word[i]\n",
    "\n",
    "word = tempWord\n",
    "print(word)"
   ]
  },
  {
   "cell_type": "code",
   "execution_count": 17,
   "metadata": {},
   "outputs": [
    {
     "name": "stdout",
     "output_type": "stream",
     "text": [
      "thbhffffffffffffff\n"
     ]
    }
   ],
   "source": [
    "word = \"'''''-------thbh'''&&----ffffffffffffff&&&&&&&&&&&&&&&&&&&\"\n",
    "word = word.replace(\"'\", \"\")\n",
    "word = word.replace(\"-\",\"\")\n",
    "word = word.replace(\"&\", \"\")\n",
    "print(word)"
   ]
  },
  {
   "cell_type": "code",
   "execution_count": 40,
   "metadata": {},
   "outputs": [],
   "source": [
    "tweet = \"w/#Data Good#Day Love# ffe\""
   ]
  },
  {
   "cell_type": "code",
   "execution_count": 41,
   "metadata": {},
   "outputs": [],
   "source": [
    "tweet = re.sub(r'#+', '', tweet)"
   ]
  },
  {
   "cell_type": "code",
   "execution_count": 42,
   "metadata": {},
   "outputs": [
    {
     "name": "stdout",
     "output_type": "stream",
     "text": [
      "w/Data GoodDay Love ffe\n"
     ]
    }
   ],
   "source": [
    "print(tweet)"
   ]
  },
  {
   "cell_type": "code",
   "execution_count": 5,
   "metadata": {},
   "outputs": [],
   "source": [
    "import re\n",
    "tweet = \"rt temp rt dmfkmef # freifjer\"\n",
    "tweet = re.sub(r'^rt[\\s]', '', tweet)"
   ]
  },
  {
   "cell_type": "code",
   "execution_count": 6,
   "metadata": {},
   "outputs": [
    {
     "name": "stdout",
     "output_type": "stream",
     "text": [
      "temp rt dmfkmef # freifjer\n"
     ]
    }
   ],
   "source": [
    "print(tweet)"
   ]
  },
  {
   "cell_type": "code",
   "execution_count": 32,
   "metadata": {},
   "outputs": [
    {
     "name": "stdout",
     "output_type": "stream",
     "text": [
      "efmkermfkrfm regfi3ngi3gr43r3 \n"
     ]
    }
   ],
   "source": [
    "imp\n",
    "tweet = \"efmkermfkrfm..............regfi3ngi3gr43r3...\"\n",
    "tweet = re.sub('\\.\\.+',' ', tweet)\n",
    "print(tweet)"
   ]
  },
  {
   "cell_type": "code",
   "execution_count": 8,
   "metadata": {},
   "outputs": [
    {
     "name": "stdout",
     "output_type": "stream",
     "text": [
      "sad#day\n"
     ]
    }
   ],
   "source": [
    "import re\n",
    "\n",
    "tweet = \"sad#day\"\n",
    "tweet = re.sub(r'#+', '', tweet)\n",
    "print(tweet)"
   ]
  },
  {
   "cell_type": "code",
   "execution_count": 33,
   "metadata": {},
   "outputs": [],
   "source": [
    "#Tests\n",
    "\n",
    "word = \"fffffttrrrrrrrrr1!.......\""
   ]
  },
  {
   "cell_type": "code",
   "execution_count": 34,
   "metadata": {},
   "outputs": [],
   "source": [
    "import re\n",
    "\n",
    "word_length = len(word)\n",
    "tempWord = \"\"\n",
    "prevChar = \"\"\n",
    "rep = 0\n",
    "    \n",
    "for i in range(0, word_length):\n",
    "        if i == 0:\n",
    "            tempWord += word[i]\n",
    "            rep = 1\n",
    "            prevChar = word[i]\n",
    "        else:\n",
    "            if (prevChar == word[i]):\n",
    "                rep+=1\n",
    "                if (rep <=2):\n",
    "                    tempWord += word[i]\n",
    "            else:\n",
    "                rep = 1\n",
    "                prevChar = word[i]\n",
    "                tempWord += word[i]\n",
    "\n",
    "word = tempWord"
   ]
  },
  {
   "cell_type": "code",
   "execution_count": 35,
   "metadata": {},
   "outputs": [
    {
     "name": "stdout",
     "output_type": "stream",
     "text": [
      "ffttrr1!..\n"
     ]
    }
   ],
   "source": [
    "print(word)"
   ]
  },
  {
   "cell_type": "code",
   "execution_count": 36,
   "metadata": {},
   "outputs": [
    {
     "name": "stdout",
     "output_type": "stream",
     "text": [
      "gggggggggghhhher3t=gg\n"
     ]
    }
   ],
   "source": [
    "word = \"''''''''''''''''''''''''------------------------------&&&&&&&&&&&&&&&&&&&gggggggggghhhher3t=----''gg\"\n",
    "word = word.replace(\"'\", \"\")\n",
    "word = word.replace(\"-\",\"\")\n",
    "word = word.replace(\"&\", \"\")\n",
    "print(word)"
   ]
  },
  {
   "cell_type": "code",
   "execution_count": 1,
   "metadata": {},
   "outputs": [
    {
     "name": "stdout",
     "output_type": "stream",
     "text": [
      "yes\n"
     ]
    }
   ],
   "source": [
    "string = \"bullshit\"\n",
    "temp = \"shit\"\n",
    "\n",
    "if temp in string:\n",
    "    print(\"yes\")"
   ]
  },
  {
   "cell_type": "code",
   "execution_count": 4,
   "metadata": {},
   "outputs": [
    {
     "name": "stdout",
     "output_type": "stream",
     "text": [
      "bullshit\n",
      "no-shite\n",
      "no\n"
     ]
    }
   ],
   "source": [
    "diction = {'bullshit': 1, 'no-shite': 2}\n",
    "\n",
    "for k in diction.keys():\n",
    "    print(k)\n",
    "\n",
    "if 'shit' in diction:\n",
    "    print(\"yes\")\n",
    "else:\n",
    "    print(\"no\")"
   ]
  },
  {
   "cell_type": "code",
   "execution_count": null,
   "metadata": {},
   "outputs": [],
   "source": []
  }
 ],
 "metadata": {
  "kernelspec": {
   "display_name": "Python 3",
   "language": "python",
   "name": "python3"
  },
  "language_info": {
   "codemirror_mode": {
    "name": "ipython",
    "version": 3
   },
   "file_extension": ".py",
   "mimetype": "text/x-python",
   "name": "python",
   "nbconvert_exporter": "python",
   "pygments_lexer": "ipython3",
   "version": "3.6.5"
  }
 },
 "nbformat": 4,
 "nbformat_minor": 2
}
