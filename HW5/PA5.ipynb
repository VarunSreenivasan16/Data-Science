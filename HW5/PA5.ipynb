{
 "cells": [
  {
   "cell_type": "code",
   "execution_count": 5,
   "metadata": {},
   "outputs": [],
   "source": [
    "import pandas as pd\n",
    "from fuzzywuzzy import fuzz\n",
    "\n",
    "test =  pd.read_csv('test.csv')\n",
    "rtable = pd.read_csv('rtable.csv', encoding = \"ISO-8859-1\")\n",
    "ltable = pd.read_csv('ltable.csv', encoding = \"ISO-8859-1\")\n",
    "\n",
    "mydict = {}\n",
    "myList = []\n",
    "\n",
    "for index, row in test.iterrows():\n",
    "    ltable_id = row.iloc[0]\n",
    "    rtable_id = row.iloc[1]\n",
    "    tid = row.iloc[2]\n",
    "    \n",
    "    ltablestring = ltable.loc[ltable_id]\n",
    "    ltable_title = ltablestring['title']\n",
    "    rtablestring = rtable.loc[rtable_id]\n",
    "    rtable_title = rtablestring['title']\n",
    "    \n",
    "    title_ratio1 = fuzz.partial_ratio(ltable_title, rtable_title)\n",
    "    title_ratio2 = fuzz.token_sort_ratio(ltable_title, rtable_title)\n",
    "    title_ratio3 = fuzz.token_set_ratio(ltable_title, rtable_title)\n",
    "    title_ratio4 = fuzz.ratio(ltable_title, rtable_title)\n",
    "    \n",
    "    if(title_ratio1 == 100 or title_ratio2 == 100 or title_ratio3 == 100 or title_ratio4 == 100) :\n",
    "        mydict[tid] = 1\n",
    "    else:\n",
    "        mydict[tid] = 0\n",
    "     \n",
    "\n",
    "    \n",
    "myList = list(mydict.items())\n",
    "fin_dataframe = pd.DataFrame.from_dict(myList)\n",
    "temp = ['Id', 'label']\n",
    "tempInd = False\n",
    "fin_dataframe.to_csv('varun_results.csv', header = temp, index = tempInd)"
   ]
  }
 ],
 "metadata": {
  "kernelspec": {
   "display_name": "Python 3",
   "language": "python",
   "name": "python3"
  },
  "language_info": {
   "codemirror_mode": {
    "name": "ipython",
    "version": 3
   },
   "file_extension": ".py",
   "mimetype": "text/x-python",
   "name": "python",
   "nbconvert_exporter": "python",
   "pygments_lexer": "ipython3",
   "version": "3.6.5"
  }
 },
 "nbformat": 4,
 "nbformat_minor": 2
}
